{
  "nbformat": 4,
  "nbformat_minor": 0,
  "metadata": {
    "colab": {
      "provenance": []
    },
    "kernelspec": {
      "name": "python3",
      "display_name": "Python 3"
    },
    "language_info": {
      "name": "python"
    }
  },
  "cells": [
    {
      "cell_type": "code",
      "source": [
        "# Importamos las liberias y demás cosas que vamos a utilizar\n",
        "import pandas as pd\n",
        "import seaborn as sns\n",
        "import numpy as np\n",
        "import matplotlib.pyplot as plt\n",
        "from sklearn import tree\n",
        "from pandas.core.reshape.encoding import from_dummies\n",
        "from sklearn.preprocessing import OneHotEncoder\n",
        "from sklearn.preprocessing import LabelEncoder\n",
        "from sklearn. model_selection import cross_val_score\n",
        "from sklearn.model_selection import train_test_split, StratifiedKFold, cross_val_score\n",
        "from sklearn. tree import DecisionTreeClassifier\n",
        "from sklearn. tree import DecisionTreeRegressor\n",
        "from sklearn.preprocessing import StandardScaler\n",
        "from sklearn. linear_model import LinearRegression\n",
        "from sklearn.model_selection import GridSearchCV\n",
        "from sklearn. metrics import accuracy_score, classification_report\n",
        "from sklearn.linear_model import LogisticRegression\n",
        "from sklearn.metrics import mean_squared_error\n",
        "import graphviz"
      ],
      "metadata": {
        "id": "mvcK6ZLgb4hX"
      },
      "execution_count": null,
      "outputs": []
    },
    {
      "cell_type": "markdown",
      "source": [
        "1)Investigar y seleccionar un dataset que cumpla con tener entre 1000 y 10.000 muestras, 5 o más atributos numéricos y al menos un atributo categórico (Recomendación: seleccionar un atributo a predecir binario). De encontrar algún dataset sin atributos categóricos, ¿Como se podría generar uno binario a partir de los atributos numéricos? Se recomienda utilizar Kaggle para la búsqueda del dataset. Antes de avanzar con el trabajo práctico, corroborar el dataset en clase."
      ],
      "metadata": {
        "id": "K4ajoShFc18T"
      }
    },
    {
      "cell_type": "code",
      "source": [
        "\n",
        "#Traigo el archivo csv desde el repo de github.\n",
        "fds : pd.DataFrame = pd.read_csv('https://raw.githubusercontent.com/Lucasgrimb/ModelosPredictivos/main/ford.csv')\n",
        "#Uso solo 10000 lineas\n",
        "fds_sample = fds.sample(n=10000)\n",
        "#Chequeo dimensiones de fds_sample\n",
        "fds_sample.shape"
      ],
      "metadata": {
        "id": "9izQx7I_niim",
        "colab": {
          "base_uri": "https://localhost:8080/"
        },
        "outputId": "8166c08f-ca69-428d-9143-56db76fb42c9"
      },
      "execution_count": null,
      "outputs": [
        {
          "output_type": "execute_result",
          "data": {
            "text/plain": [
              "(10000, 9)"
            ]
          },
          "metadata": {},
          "execution_count": 7
        }
      ]
    },
    {
      "cell_type": "markdown",
      "source": [
        "2)Realizar un análisis exploratorio de los datos. Se recomienda utilizar gráficos para visualizar la distribución de los datos y la correlación entre los atributos. Se recomienda utilizar la librería seaborn para realizar los gráficos.\n",
        "\n",
        "\n",
        "\n",
        "\n",
        "\n",
        "\n"
      ],
      "metadata": {
        "id": "DH73utFYgF93"
      }
    },
    {
      "cell_type": "code",
      "source": [
        "# Visualizar las primeras filas del dataset para tener una idea general\n",
        "print(fds_sample.head())\n",
        "# Estadísticas descriptivas básicas\n",
        "print(fds_sample.describe())\n",
        "#  visualizo distribución de variables categóricas\n",
        "cat_features = fds_sample.select_dtypes(exclude=[np.number]).columns.tolist()\n",
        "for feature in cat_features:\n",
        "    plt.figure(figsize=(10,6))\n",
        "    sns.countplot(data=fds_sample, y=feature)\n",
        "    plt.title(f'Distribución de {feature}')\n",
        "    plt.show()"
      ],
      "metadata": {
        "colab": {
          "base_uri": "https://localhost:8080/",
          "height": 1000
        },
        "id": "FubtVhlifFCa",
        "outputId": "9107be08-a0fe-41b1-cfd9-bb17cdbd8b43"
      },
      "execution_count": null,
      "outputs": [
        {
          "output_type": "stream",
          "name": "stdout",
          "text": [
            "         model  year  price transmission  mileage fuelType  tax   mpg  \\\n",
            "13121   Fiesta  2017  10500    Semi-Auto    19733   Petrol  145  47.9   \n",
            "14435   Fiesta  2018   9999       Manual     9813   Petrol  145  64.2   \n",
            "17162    Focus  2016   9990    Automatic    23700   Petrol  165  44.8   \n",
            "1291      Edge  2017  20698       Manual    17381   Diesel  150  47.9   \n",
            "4727       Ka+  2018   7600       Manual    11834   Petrol  145  57.7   \n",
            "\n",
            "       engineSize  \n",
            "13121         1.6  \n",
            "14435         1.1  \n",
            "17162         1.6  \n",
            "1291          2.0  \n",
            "4727          1.2  \n",
            "               year         price        mileage           tax           mpg  \\\n",
            "count  10000.000000  10000.000000   10000.000000  10000.000000  10000.000000   \n",
            "mean    2016.861100  12264.909400   23373.932300    113.096000     57.902990   \n",
            "std        2.074858   4748.830613   19494.151752     62.395826      9.954042   \n",
            "min     2002.000000    675.000000       1.000000      0.000000     20.800000   \n",
            "25%     2016.000000   9000.000000    9987.750000     30.000000     52.300000   \n",
            "50%     2017.000000  11258.500000   18341.000000    145.000000     58.900000   \n",
            "75%     2018.000000  15299.000000   30943.250000    145.000000     65.700000   \n",
            "max     2060.000000  54995.000000  174000.000000    580.000000    201.800000   \n",
            "\n",
            "         engineSize  \n",
            "count  10000.000000  \n",
            "mean       1.348760  \n",
            "std        0.434163  \n",
            "min        0.000000  \n",
            "25%        1.000000  \n",
            "50%        1.200000  \n",
            "75%        1.500000  \n",
            "max        5.000000  \n"
          ]
        },
        {
          "output_type": "display_data",
          "data": {
            "text/plain": [
              "<Figure size 1000x600 with 1 Axes>"
            ],
            "image/png": "[encoded data removed]"
          },
          "metadata": {}
        },
        {
          "output_type": "display_data",
          "data": {
            "text/plain": [
              "<Figure size 1000x600 with 1 Axes>"
            ],
            "image/png": "[encoded data removed]"
          },
          "metadata": {}
        },
        {
          "output_type": "display_data",
          "data": {
            "text/plain": [
              "<Figure size 1000x600 with 1 Axes>"
            ],
            "image/png": "[encoded data removed]"
          },
          "metadata": {}
        }
      ]
    },
    {
      "cell_type": "markdown",
      "source": [
        "3)Como resultado del análisis exploratorio, seleccionar un atributo categórico y un atributo numérico para realizar un modelo de clasificación. Se recomienda utilizar la función LabelEncoder de SciKit-Learn para convertir el atributo categórico a numérico."
      ],
      "metadata": {
        "id": "GigddXUajL9a"
      }
    },
    {
      "cell_type": "code",
      "source": [
        "\n",
        "# Crear una instancia de LabelEncoder\n",
        "le = LabelEncoder()\n",
        "\n",
        "# Convertir la columna 'model'\n",
        "le.fit(fds_sample['model'])\n",
        "fds_sample['model'] = le.transform(fds_sample['model'])\n",
        "\n",
        "# Convertir la columna 'transmission'\n",
        "le.fit(fds_sample['transmission'])\n",
        "fds_sample['transmission'] = le.transform(fds_sample['transmission'])\n",
        "\n",
        "# Convertir la columna 'fuelType'\n",
        "le.fit(fds_sample['fuelType'])\n",
        "fds_sample['fuelType'] = le.transform(fds_sample['fuelType'])\n",
        "\n",
        "# Ver el DataFrame transformado\n",
        "print(fds_sample)\n"
      ],
      "metadata": {
        "colab": {
          "base_uri": "https://localhost:8080/"
        },
        "id": "tL50JmTXjOCW",
        "outputId": "e43f8acf-0d9f-408c-b85c-0111c10be43b"
      },
      "execution_count": null,
      "outputs": [
        {
          "output_type": "stream",
          "name": "stdout",
          "text": [
            "       model  year  price  transmission  mileage  fuelType  tax   mpg  \\\n",
            "13121      4  2017  10500             2    19733         2  145  47.9   \n",
            "14435      4  2018   9999             1     9813         2  145  64.2   \n",
            "17162      5  2016   9990             0    23700         2  165  44.8   \n",
            "1291       3  2017  20698             1    17381         0  150  47.9   \n",
            "4727      11  2018   7600             1    11834         2  145  57.7   \n",
            "...      ...   ...    ...           ...      ...       ...  ...   ...   \n",
            "6844       4  2018  11500             1    10820         2  145  56.5   \n",
            "6836       5  2018  14298             1     3037         2  145  57.7   \n",
            "10105     12  2019  19995             1     2790         2  150  35.3   \n",
            "10993      5  2017  12499             2    16943         2  125  51.4   \n",
            "3620      13  2015   8470             1    73991         0   30  65.7   \n",
            "\n",
            "       engineSize  \n",
            "13121         1.6  \n",
            "14435         1.1  \n",
            "17162         1.6  \n",
            "1291          2.0  \n",
            "4727          1.2  \n",
            "...           ...  \n",
            "6844          1.0  \n",
            "6836          1.0  \n",
            "10105         1.5  \n",
            "10993         1.0  \n",
            "3620          2.0  \n",
            "\n",
            "[10000 rows x 9 columns]\n"
          ]
        }
      ]
    },
    {
      "cell_type": "markdown",
      "source": [
        "4)Realizar una partición de los datos en conjuntos de entrenamiento y test. La proporción con la cual hacen esta partición es libre. Se recomienda utilizar la función train_test_split de SciKit-Learn."
      ],
      "metadata": {
        "id": "41pnBGdyjbjL"
      }
    },
    {
      "cell_type": "code",
      "source": [
        "#datos entrada\n",
        "X = fds_sample.drop('price', axis=1)\n",
        "#datos salida\n",
        "y = fds_sample['price']\n",
        "X_train, X_test, y_train, y_test = train_test_split(X, y, test_size=0.2)"
      ],
      "metadata": {
        "id": "e7Gu4OpxmyHK"
      },
      "execution_count": null,
      "outputs": []
    },
    {
      "cell_type": "markdown",
      "source": [
        "5)Para el atributo numérico a predecir seleccionado:\n",
        "\n",
        "Realizar un modelo de regresión lineal utilizando la clase LinearRegression de SciKit-Learn.\n",
        "Realizar un modelo de Árbol de Decisión utilizando la clase DecisionTreeRegressor de SciKit-Learn. Seleccionar hiperparámetros que les parezca mejoren el modelo.\n",
        "Responder: ¿Que formas tienen de evaluar los resultados de cada árbol de decisión? ¿Como eligen \"el mejor árbol\"? ¿Como se comparan los resultados de los modelos de regresión lineal y de árbol de decisión?\n",
        "\n",
        "Sugerencia: Aprovechar los conceptos de validación y de validación cruzada para evaluar los modelos. Pueden utilizar la función cross_val_score de SciKit-Learn para evaluar los modelos.\n",
        "\n",
        "Se recomienda utilizar la función cross_val_score de SciKit-Learn para evaluar los modelos.\n",
        "\n"
      ],
      "metadata": {
        "id": "-XxLoltNnQ9X"
      }
    },
    {
      "cell_type": "code",
      "source": [
        "# Entrenar un modelo de regresión lineal\n",
        "lr = LinearRegression()\n",
        "lr.fit(X_train, y_train)\n",
        "\n",
        "# Predicciones\n",
        "lr_predictions = lr.predict(X_test)\n",
        "\n",
        "# Evaluar el modelo\n",
        "lr_mse = mean_squared_error(y_test, lr_predictions)\n",
        "print(f\"Mean Squared Error (MSE) para Regresión Lineal: {lr_mse}\")\n",
        "\n"
      ],
      "metadata": {
        "colab": {
          "base_uri": "https://localhost:8080/"
        },
        "id": "jPI_rqAmhaUz",
        "outputId": "8c79ef40-4a00-4401-f5a3-d346f0a94432"
      },
      "execution_count": null,
      "outputs": [
        {
          "output_type": "stream",
          "name": "stdout",
          "text": [
            "Mean Squared Error (MSE) para Regresión Lineal: 7767010.067747636\n"
          ]
        }
      ]
    },
    {
      "cell_type": "code",
      "source": [
        "dt = DecisionTreeRegressor(random_state=42)\n",
        "dt.fit(X_train, y_train)\n",
        "\n",
        "# Predicciones\n",
        "dt_predictions = dt.predict(X_test)\n",
        "\n",
        "# Evaluar el modelo\n",
        "dt_mse = mean_squared_error(y_test, dt_predictions)\n",
        "print(f\"Mean Squared Error (MSE) para Árbol de Decisión: {dt_mse}\")"
      ],
      "metadata": {
        "colab": {
          "base_uri": "https://localhost:8080/"
        },
        "id": "REkckZEinhVV",
        "outputId": "1002ec19-9324-412b-9ccd-67372ad954dd"
      },
      "execution_count": null,
      "outputs": [
        {
          "output_type": "stream",
          "name": "stdout",
          "text": [
            "Mean Squared Error (MSE) para Árbol de Decisión: 3034240.4894861113\n"
          ]
        }
      ]
    },
    {
      "cell_type": "code",
      "source": [
        "# cross_val_score para evaluar el rendimiento del modelo\n",
        "lr_scores = cross_val_score(lr, X_train, y_train, cv=5, scoring=\"neg_mean_squared_error\")\n",
        "dt_scores = cross_val_score(dt, X_train, y_train, cv=5, scoring=\"neg_mean_squared_error\")\n",
        "\n",
        "print(f\"Promedio MSE para Regresión Lineal con Validación Cruzada: {-lr_scores.mean()}\")\n",
        "print(f\"Promedio MSE para Árbol de Decisión con Validación Cruzada: {-dt_scores.mean()}\")"
      ],
      "metadata": {
        "colab": {
          "base_uri": "https://localhost:8080/"
        },
        "id": "bTFgx3Hmnm5I",
        "outputId": "06d3e936-1544-41a9-d9bc-bb015ee15f1e"
      },
      "execution_count": null,
      "outputs": [
        {
          "output_type": "stream",
          "name": "stdout",
          "text": [
            "Promedio MSE para Regresión Lineal con Validación Cruzada: 5700741.0076939445\n",
            "Promedio MSE para Árbol de Decisión con Validación Cruzada: 2833911.302017361\n"
          ]
        }
      ]
    },
    {
      "cell_type": "markdown",
      "source": [
        "\n",
        "\n",
        "1. **¿Qué formas tienen de evaluar los resultados de cada árbol de decisión?**\n",
        "   \n",
        "   Utilizamos el Mean Squared Error (MSE) como métrica para evaluar la precisión de las predicciones hechas por el árbol de decisión. Además, hicimos uso de la validación cruzada con 5 pliegues (5-Fold Cross-Validation) para obtener una estimación más robusta del rendimiento del modelo en datos no vistos. La validación cruzada proporciona múltiples medidas del MSE en diferentes subconjuntos del conjunto de datos, lo que nos ayuda a comprender la variabilidad del rendimiento del modelo.\n",
        "\n",
        "2. **¿Cómo eligen \"el mejor árbol\"?**\n",
        "   \n",
        "   Para elegir \"el mejor árbol\", nos fijaríamos en la métrica de rendimiento (en este caso, MSE) en el conjunto de prueba y, posiblemente, en el promedio de MSE obtenido a través de la validación cruzada. El modelo con el menor MSE, en general, se consideraría \"el mejor\" ya que tiene el menor error cuadrado medio en sus predicciones. Sin embargo, también es importante considerar otros factores, como la complejidad del árbol, para evitar sobreajuste.\n",
        "\n",
        "3. **¿Cómo se comparan los resultados de los modelos de regresión lineal y de árbol de decisión?**\n",
        "   \n",
        "   Basándonos en el código proporcionado:\n",
        "\n",
        "   - Regresión Lineal: El MSE para el modelo de regresión lineal en el conjunto de prueba es \\(lr\\_mse\\). Además, el MSE promedio obtenido a través de la validación cruzada para el modelo de regresión lineal es \\(-lr\\_scores.mean()\\).\n",
        "   - Árbol de Decisión: El MSE para el modelo de árbol de decisión en el conjunto de prueba es \\(dt\\_mse\\). Además, el MSE promedio obtenido a través de la validación cruzada para el modelo de árbol de decisión es \\(-dt\\_scores.mean()\\).\n",
        "\n",
        "   Comparando estos resultados, podemos determinar cuál de los modelos es más preciso basándonos en el MSE: un menor MSE indica un mejor rendimiento. Sin embargo, también debemos considerar la varianza en los scores de validación cruzada, ya que un modelo con alta variabilidad puede no ser confiable en la práctica.\n",
        "\n",
        "   En resumen, mientras que ambos modelos se evalúan utilizando MSE y validación cruzada, es esencial mirar el contexto y las diferencias en sus resultados para determinar cuál modelo es preferible para el problema en cuestión."
      ],
      "metadata": {
        "id": "86_QWO9enzSn"
      }
    },
    {
      "cell_type": "markdown",
      "source": [
        "6)Para el atributo categórico a predecir seleccionado\n",
        "Realizar un modelo de clasificación utilizando la clase LogisticRegression de SciKit-Learn.\n",
        "Realizar un modelo de clasificación utilizando la clase DecisionTreeClassifier de SciKit-Learn.\n",
        "Responder las mismas preguntas que en el punto 5 para este caso."
      ],
      "metadata": {
        "id": "2kVfx4TKo6xX"
      }
    },
    {
      "cell_type": "code",
      "source": [
        "\n",
        "X = fds_sample.drop('transmission', axis=1)\n",
        "y = fds_sample['transmission']\n",
        "\n",
        "# Dividir los datos en conjuntos de entrenamiento y prueba\n",
        "X_train, X_test, y_train, y_test = train_test_split(X, y, test_size=0.2, random_state=42, stratify=y)\n",
        "\n",
        "# Normalizar los datos\n",
        "scaler = StandardScaler()\n",
        "X_train = scaler.fit_transform(X_train)\n",
        "X_test = scaler.transform(X_test)\n",
        "\n",
        "# Modelo de Regresión Logística\n",
        "logreg = LogisticRegression(max_iter=10000) # Aumento de iteraciones\n",
        "logreg.fit(X_train, y_train)\n",
        "\n",
        "y_pred = logreg.predict(X_test)\n",
        "\n",
        "print(\"Accuracy para Regresión Logística:\", accuracy_score(y_test, y_pred))\n",
        "print(\"Reporte de Clasificación para Regresión Logística:\")\n",
        "print(classification_report(y_test, y_pred, zero_division=1))\n",
        "\n",
        "# Validación Cruzada usando StratifiedKFold\n",
        "cv = StratifiedKFold(n_splits=5)\n",
        "scores_logreg = cross_val_score(logreg, X, y, cv=cv, scoring='accuracy')\n",
        "print(\"Promedio de Accuracy para Regresión Logística con Validación Cruzada:\", scores_logreg.mean())\n"
      ],
      "metadata": {
        "colab": {
          "base_uri": "https://localhost:8080/"
        },
        "id": "JML5niIgtXJS",
        "outputId": "c6cc0264-9110-4781-a725-3b6370ed9851"
      },
      "execution_count": null,
      "outputs": [
        {
          "output_type": "stream",
          "name": "stdout",
          "text": [
            "Accuracy para Regresión Logística: 0.8525\n",
            "Reporte de Clasificación para Regresión Logística:\n",
            "              precision    recall  f1-score   support\n",
            "\n",
            "           0       0.20      0.06      0.09       153\n",
            "           1       0.87      0.98      0.92      1726\n",
            "           2       0.18      0.02      0.03       121\n",
            "\n",
            "    accuracy                           0.85      2000\n",
            "   macro avg       0.42      0.35      0.35      2000\n",
            "weighted avg       0.78      0.85      0.81      2000\n",
            "\n",
            "Promedio de Accuracy para Regresión Logística con Validación Cruzada: 0.8620000000000001\n"
          ]
        }
      ]
    },
    {
      "cell_type": "code",
      "source": [
        "# Modelo de Árbol de Decisión\n",
        "dt_classifier = DecisionTreeClassifier(random_state=42)\n",
        "dt_classifier.fit(X_train, y_train)\n",
        "\n",
        "y_pred_dt = dt_classifier.predict(X_test)\n",
        "\n",
        "print(\"\\nAccuracy para Árbol de Decisión:\", accuracy_score(y_test, y_pred_dt))\n",
        "print(\"Reporte de Clasificación para Árbol de Decisión:\")\n",
        "print(classification_report(y_test, y_pred_dt))\n",
        "\n",
        "# Validación Cruzada para el Árbol de Decisión\n",
        "scores_dt = cross_val_score(dt_classifier, X, y, cv=cv, scoring='accuracy')\n",
        "print(\"Promedio de Accuracy para Árbol de Decisión con Validación Cruzada:\", scores_dt.mean())\n"
      ],
      "metadata": {
        "colab": {
          "base_uri": "https://localhost:8080/"
        },
        "id": "214Hdrjwvh1S",
        "outputId": "1b9660d4-20fa-4011-dbcf-018069b293b6"
      },
      "execution_count": null,
      "outputs": [
        {
          "output_type": "stream",
          "name": "stdout",
          "text": [
            "\n",
            "Accuracy para Árbol de Decisión: 0.9265\n",
            "Reporte de Clasificación para Árbol de Decisión:\n",
            "              precision    recall  f1-score   support\n",
            "\n",
            "           0       0.63      0.63      0.63       153\n",
            "           1       0.98      0.98      0.98      1726\n",
            "           2       0.54      0.56      0.55       121\n",
            "\n",
            "    accuracy                           0.93      2000\n",
            "   macro avg       0.72      0.72      0.72      2000\n",
            "weighted avg       0.93      0.93      0.93      2000\n",
            "\n",
            "Promedio de Accuracy para Árbol de Decisión con Validación Cruzada: 0.9254999999999999\n"
          ]
        }
      ]
    },
    {
      "cell_type": "markdown",
      "source": [
        "\n",
        "\n",
        "1. **¿Qué formas tienen de evaluar los resultados de cada árbol de decisión?**\n",
        "\n",
        "   Los resultados del árbol de decisión se evalúan utilizando varias métricas que derivan del informe de clasificación. Las métricas clave incluyen:\n",
        "   \n",
        "   - **Accuracy (Precisión)**: Mide la proporción de predicciones correctas en todos los casos.\n",
        "   - **Precision**: Se refiere a la proporción de verdaderos positivos frente a la suma de verdaderos y falsos positivos. Es una indicación de cuán confiables son las predicciones positivas del modelo.\n",
        "   - **Recall (Sensibilidad)**: Se refiere a la proporción de verdaderos positivos frente a la suma de verdaderos positivos y falsos negativos. Indica qué proporción de los positivos reales fue identificada correctamente.\n",
        "   - **F1-Score**: Es la media armónica entre la precisión y el recall y proporciona una métrica que combina ambos valores en uno.\n",
        "   \n",
        "   Además, utilizamos la validación cruzada para obtener una estimación más robusta del rendimiento del árbol en datos no vistos.\n",
        "\n",
        "2. **¿Cómo eligen \"el mejor árbol\"?**\n",
        "\n",
        "   Para elegir \"el mejor árbol\", se considera el rendimiento del modelo en el conjunto de prueba, específicamente el valor de \"accuracy\". Además, el promedio de accuracy obtenido a través de la validación cruzada puede ofrecer una indicación más generalizada del rendimiento del árbol. Sin embargo, si tuviéramos varios árboles para comparar, no solo nos fijaríamos en el accuracy. También consideraríamos otras métricas, como precision, recall y f1-score, especialmente si las clases están desbalanceadas. También es esencial tener en cuenta la complejidad del árbol (profundidad, número de nodos) para evitar el sobreajuste.\n",
        "\n",
        "3. **¿Cómo se comparan los resultados de los modelos de regresión logística y de árbol de decisión?**\n",
        "\n",
        "   - **Regresión Logística**:\n",
        "     - Accuracy: 0.8555\n",
        "     - Precisión, Recall, y F1-Score varían según la clase, con valores de precisión de 0.11, 0.87 y 0.25 para las clases 0, 1 y 2, respectivamente.\n",
        "     - Promedio de Accuracy con Validación Cruzada: 0.8643\n",
        "   \n",
        "   - **Árbol de Decisión**:\n",
        "     - Accuracy: 0.9295\n",
        "     - Precisión, Recall, y F1-Score también varían según la clase, pero en general son más altos que los del modelo de regresión logística, con valores de precisión de 0.61, 0.99 y 0.53 para las clases 0, 1 y 2, respectivamente.\n",
        "     - Promedio de Accuracy con Validación Cruzada: 0.9224\n",
        "\n",
        "   En resumen, el modelo de Árbol de Decisión parece superar al modelo de Regresión Logística en términos de accuracy y otras métricas para este conjunto de datos. La mejora en las métricas sugiere que el Árbol de Decisión puede ser más adecuado para este problema en particular, aunque es crucial realizar un análisis más profundo y considerar otros aspectos como la interpretación del modelo, el riesgo de sobreajuste y la naturaleza del conjunto de datos antes de decidir cuál modelo es \"mejor\"."
      ],
      "metadata": {
        "id": "h3dmRqik0wvC"
      }
    },
    {
      "cell_type": "markdown",
      "source": [
        "7)\n",
        "**Comparar distintos métodos de validación cruzada. ¿Que ventajas y desventajas tiene cada uno?**\n",
        "\n",
        "*K-Fold Cross Validation:*\n",
        "\n",
        "Ventajas:\n",
        "Más preciso que el método de división de train/test.\n",
        "Hace uso eficiente de los datos ya que cada observación se utiliza tanto para el entrenamiento como para la prueba.\n",
        "Desventajas:\n",
        "No siempre es ideal para datos que están desequilibrados en términos de clases.\n",
        "Requiere más tiempo computacional ya que el modelo se entrena K veces.\n",
        "\n",
        "*Stratified K-Fold Cross Validation:*\n",
        "\n",
        "Ventajas:\n",
        "Cada pliegue es una buena representación de todo el conjunto de datos en términos de distribución de clases. Es especialmente útil para datos desequilibrados.\n",
        "Desventajas:\n",
        "Al igual que K-Fold, es computacionalmente más caro que una simple división de train/test.\n",
        "Leave-One-Out Cross Validation (LOOCV):\n",
        "\n",
        "Ventajas:\n",
        "Hace el máximo uso de los datos.\n",
        "Menos sesgo ya que se entrena en casi todo el conjunto de datos.\n",
        "Desventajas:\n",
        "Muy caro computacionalmente, especialmente para conjuntos de datos grandes.\n",
        "Puede llevar a estimaciones de varianza más altas debido a que se entrena con casi todos los datos.\n",
        "\n",
        "*Leave-P-Out Cross Validation:*\n",
        "\n",
        "Ventajas:\n",
        "Proporciona una evaluación exhaustiva al considerar todas las subconjuntos de p datos.\n",
        "Desventajas:\n",
        "Aún más caro computacionalmente que LOOCV.\n",
        "Time-Series Cross-Validation:\n",
        "\n",
        "Ventajas:\n",
        "Ideal para series temporales donde la estructura temporal es importante.\n",
        "Desventajas:\n",
        "No se puede hacer aleatoriamente ya que rompería la estructura temporal.\n",
        "Puede no ser eficiente si hay patrones estacionales o tendencias a largo plazo.\n",
        "\n",
        "*Group K-Fold Cross Validation:*\n",
        "\n",
        "Ventajas:\n",
        "Ideal para conjuntos de datos donde las observaciones tienen grupos, y se desea que el mismo grupo no aparezca en diferentes pliegues.\n",
        "Desventajas:\n",
        "Se requiere un conocimiento previo sobre la estructura de grupo de los datos.\n",
        "\n",
        "*Shuffle Split Cross Validation:*\n",
        "\n",
        "Ventajas:\n",
        "Permite control sobre el número de iteraciones y el tamaño de la prueba/train.\n",
        "Puede ser más rápido que K-Fold.\n",
        "Desventajas:\n",
        "Menos preciso que K-Fold si no se eligen correctamente el número de iteraciones y el tamaño del conjunto."
      ],
      "metadata": {
        "id": "yxcJ9_5MyH-W"
      }
    },
    {
      "cell_type": "markdown",
      "source": [
        "8)**Conclusión**:\n",
        "\n",
        "En este proyecto, exploramos un dataset, visualizamos las relaciones entre datos y construimos modelos predictivos. Aprendimos la importancia de analizar y validar estos modelos adecuadamente. Aunque el aprendizaje automático puede parecer complicado al principio, con práctica y estudio, pudimos comprender sus fundamentos. Este trabajo nos dio una buena introducción a la ciencia de datos, un campo bastante amplio e interesante."
      ],
      "metadata": {
        "id": "DfmUhd7z2Gqa"
      }
    },
    {
      "cell_type": "markdown",
      "source": [
        "**Bonus**"
      ],
      "metadata": {
        "id": "N37vcFJwRYMk"
      }
    },
    {
      "cell_type": "code",
      "source": [
        "#datos entrada\n",
        "X = fds_sample.drop('price', axis=1)\n",
        "#datos salida\n",
        "y = fds_sample['price']\n",
        "X_train, X_test, y_train, y_test = train_test_split(X, y, test_size=0.2)\n",
        "\n",
        "# Instanciación y entrenamiento\n",
        "lr = LinearRegression()\n",
        "lr.fit(X_train, y_train)\n",
        "\n",
        "# Predicciones y evaluación\n",
        "lr_predictions = lr.predict(X_test)\n",
        "lr_mse = mean_squared_error(y_test, lr_predictions)\n",
        "print(f\"Mean Squared Error (MSE) para Regresión Lineal: {lr_mse}\")\n",
        "\n",
        "# Hiperparámetros a considerar\n",
        "param_grid = {\n",
        "    'max_depth': [None, 10, 20, 30],\n",
        "    'min_samples_split': [2, 5, 10],\n",
        "    'min_samples_leaf': [1, 2, 4]\n",
        "}\n",
        "\n",
        "dt = DecisionTreeRegressor(random_state=42)\n",
        "\n",
        "# Uso de GridSearchCV para búsqueda de hiperparámetros\n",
        "grid_search = GridSearchCV(estimator=dt, param_grid=param_grid,\n",
        "                           scoring='neg_mean_squared_error', cv=5)\n",
        "\n",
        "grid_search.fit(X_train, y_train)\n",
        "best_dt = grid_search.best_estimator_\n",
        "\n",
        "# Predicciones y evaluación\n",
        "dt_predictions = best_dt.predict(X_test)\n",
        "dt_mse = mean_squared_error(y_test, dt_predictions)\n",
        "print(f\"Mean Squared Error (MSE) para Árbol de Decisión: {dt_mse}\")\n",
        "\n",
        "# Regresión Lineal\n",
        "lr_scores = cross_val_score(lr, X_train, y_train, cv=5, scoring=\"neg_mean_squared_error\")\n",
        "print(f\"Promedio MSE para Regresión Lineal con Validación Cruzada: {-lr_scores.mean()}\")\n",
        "\n",
        "# Árbol de Decisión\n",
        "dt_scores = cross_val_score(best_dt, X_train, y_train, cv=5, scoring=\"neg_mean_squared_error\")\n",
        "print(f\"Promedio MSE para Árbol de Decisión con Validación Cruzada: {-dt_scores.mean()}\")\n"
      ],
      "metadata": {
        "colab": {
          "base_uri": "https://localhost:8080/"
        },
        "id": "TdFmU1XxRUH-",
        "outputId": "64db6d87-7246-441b-c4f6-5e07987dcda0"
      },
      "execution_count": null,
      "outputs": [
        {
          "output_type": "stream",
          "name": "stdout",
          "text": [
            "Mean Squared Error (MSE) para Regresión Lineal: 7047622.330177207\n",
            "Mean Squared Error (MSE) para Árbol de Decisión: 2264495.482784589\n",
            "Promedio MSE para Regresión Lineal con Validación Cruzada: 5903178.30428859\n",
            "Promedio MSE para Árbol de Decisión con Validación Cruzada: 2249263.713477783\n"
          ]
        }
      ]
    },
    {
      "cell_type": "code",
      "source": [
        "X = fds_sample.drop('transmission', axis=1)\n",
        "y = fds_sample['transmission']\n",
        "\n",
        "# Divido los datos en conjuntos de entrenamiento y prueba\n",
        "X_train, X_test, y_train, y_test = train_test_split(X, y, test_size=0.2, random_state=42, stratify=y)\n",
        "\n",
        "# Regresión Logística\n",
        "logreg = LogisticRegression(max_iter=5000)\n",
        "logreg.fit(X_train, y_train)\n",
        "y_pred_logreg = logreg.predict(X_test)\n",
        "print(\"Accuracy para Regresión Logística:\", accuracy_score(y_test, y_pred_logreg))\n",
        "print(classification_report(y_test, y_pred_logreg))\n",
        "\n",
        "# Árbol de Decisión\n",
        "#  GridSearch para optimizar hiperparámetros\n",
        "params = {'max_depth': [3, 5, 7, 10], 'min_samples_split': [2, 5, 10], 'min_samples_leaf': [1, 2, 4]}\n",
        "grid_search = GridSearchCV(DecisionTreeClassifier(random_state=42), params, cv=5)\n",
        "grid_search.fit(X_train, y_train)\n",
        "best_tree = grid_search.best_estimator_\n",
        "\n",
        "y_pred_tree = best_tree.predict(X_test)\n",
        "print(\"Accuracy para Árbol de Decisión:\", accuracy_score(y_test, y_pred_tree))\n",
        "print(classification_report(y_test, y_pred_tree))"
      ],
      "metadata": {
        "id": "RHXmoNXpTiFS",
        "colab": {
          "base_uri": "https://localhost:8080/"
        },
        "outputId": "d33ac420-7d7f-441b-985d-fe45c997597d"
      },
      "execution_count": null,
      "outputs": [
        {
          "output_type": "stream",
          "name": "stdout",
          "text": [
            "Accuracy para Regresión Logística: 0.8625\n",
            "              precision    recall  f1-score   support\n",
            "\n",
            "           0       0.42      0.07      0.12       153\n",
            "           1       0.87      0.99      0.93      1726\n",
            "           2       0.00      0.00      0.00       121\n",
            "\n",
            "    accuracy                           0.86      2000\n",
            "   macro avg       0.43      0.35      0.35      2000\n",
            "weighted avg       0.78      0.86      0.81      2000\n",
            "\n"
          ]
        },
        {
          "output_type": "stream",
          "name": "stderr",
          "text": [
            "/usr/local/lib/python3.10/dist-packages/sklearn/metrics/_classification.py:1344: UndefinedMetricWarning: Precision and F-score are ill-defined and being set to 0.0 in labels with no predicted samples. Use `zero_division` parameter to control this behavior.\n",
            "  _warn_prf(average, modifier, msg_start, len(result))\n",
            "/usr/local/lib/python3.10/dist-packages/sklearn/metrics/_classification.py:1344: UndefinedMetricWarning: Precision and F-score are ill-defined and being set to 0.0 in labels with no predicted samples. Use `zero_division` parameter to control this behavior.\n",
            "  _warn_prf(average, modifier, msg_start, len(result))\n",
            "/usr/local/lib/python3.10/dist-packages/sklearn/metrics/_classification.py:1344: UndefinedMetricWarning: Precision and F-score are ill-defined and being set to 0.0 in labels with no predicted samples. Use `zero_division` parameter to control this behavior.\n",
            "  _warn_prf(average, modifier, msg_start, len(result))\n"
          ]
        },
        {
          "output_type": "stream",
          "name": "stdout",
          "text": [
            "Accuracy para Árbol de Decisión: 0.9245\n",
            "              precision    recall  f1-score   support\n",
            "\n",
            "           0       0.65      0.55      0.60       153\n",
            "           1       0.97      0.99      0.98      1726\n",
            "           2       0.54      0.50      0.52       121\n",
            "\n",
            "    accuracy                           0.92      2000\n",
            "   macro avg       0.72      0.68      0.70      2000\n",
            "weighted avg       0.92      0.92      0.92      2000\n",
            "\n"
          ]
        }
      ]
    }
  ]
}